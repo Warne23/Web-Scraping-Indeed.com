{
 "cells": [
  {
   "cell_type": "code",
   "execution_count": 1,
   "id": "5d80bce1",
   "metadata": {},
   "outputs": [],
   "source": [
    "from bs4 import BeautifulSoup\n",
    "import requests\n",
    "from datetime import datetime\n",
    "import csv"
   ]
  },
  {
   "cell_type": "code",
   "execution_count": 2,
   "id": "37b60872",
   "metadata": {},
   "outputs": [],
   "source": [
    "def get_url(position, location):\n",
    "        template = 'https://in.indeed.com/jobs?q={}&l={}'\n",
    "        url = template.format(position, location)\n",
    "        return url"
   ]
  },
  {
   "cell_type": "markdown",
   "id": "aa312be6",
   "metadata": {},
   "source": [
    "## Generalize for all job snippets\n"
   ]
  },
  {
   "cell_type": "code",
   "execution_count": 3,
   "id": "6cc8a991",
   "metadata": {},
   "outputs": [],
   "source": [
    "def get_record(job,abc):\n",
    "    atag=job.h2.span\n",
    "    job_title=atag.get('title')\n",
    "    company=job.find('span','companyName').text\n",
    "    url='https://in.indeed.com'+abc.get('href')\n",
    "    loc=job.find('div','companyLocation').text\n",
    "    desc_l=[]\n",
    "    list_desc=(job.find('div','job-snippet')).find_all('li')\n",
    "    for desc in list_desc:\n",
    "        desc_l.append((desc.text))\n",
    "    post_date=job.find('span','myJobsState')\n",
    "    today=datetime.today().strftime('%Y-%m-%d')\n",
    "    try:\n",
    "        salary=job.find('div','metadata salary-snippet-container').text.strip()\n",
    "    except AttributeError:\n",
    "        salary=''\n",
    "            \n",
    "        \n",
    "    \n",
    "    \n",
    "    record=(job_title,company,loc,salary,post_date,today,desc_l,url)\n",
    "    return record"
   ]
  },
  {
   "cell_type": "markdown",
   "id": "51b11da4",
   "metadata": {},
   "source": [
    "## Handling 'Next' Pages"
   ]
  },
  {
   "cell_type": "code",
   "execution_count": 4,
   "id": "a6afe2cd",
   "metadata": {},
   "outputs": [],
   "source": [
    "def main(position,location):\n",
    "    records = []\n",
    "    url = get_url(position, location)\n",
    "    \n",
    "    while True:\n",
    "        print(url)\n",
    "        response=requests.get(url)\n",
    "        data=response.text\n",
    "        soup=BeautifulSoup(data,'html.parser')\n",
    "        jobs=soup.find_all('div',{'class':'job_seen_beacon'})\n",
    "        urls=soup.find_all('a',{'target':'_blank','rel':'nofollow'})\n",
    "        \n",
    "        try:\n",
    "            url='https://in.indeed.com'+soup.find('a',{'aria-label':'Next'}).get('href')\n",
    "        except AttributeError:\n",
    "            break\n",
    "\n",
    "        \n",
    "\n",
    "        i=0\n",
    "        for job in jobs:\n",
    "            abc=urls[i]\n",
    "            record=get_record(job,abc)\n",
    "            i=i+1\n",
    "            records.append(record)\n",
    "            \n",
    "    with open('results.csv', 'w', newline='', encoding='utf-8') as f:\n",
    "            writer = csv.writer(f)\n",
    "            writer.writerow(['Job Title', 'Company', 'Location', 'Salary', 'Posting Date', 'Extract Date', 'Summary', 'Job Url'])\n",
    "            writer.writerows(records)\n",
    "    \n",
    "    print(len(records))\n"
   ]
  },
  {
   "cell_type": "code",
   "execution_count": null,
   "id": "9e2f9dc6",
   "metadata": {},
   "outputs": [],
   "source": []
  },
  {
   "cell_type": "code",
   "execution_count": 5,
   "id": "fea0486f",
   "metadata": {},
   "outputs": [
    {
     "name": "stdout",
     "output_type": "stream",
     "text": [
      "https://in.indeed.com/jobs?q=data analyst internship&l=India\n",
      "https://in.indeed.com/jobs?q=data+analyst+internship&l=India&start=10\n",
      "https://in.indeed.com/jobs?q=data+analyst+internship&l=India&start=20\n",
      "https://in.indeed.com/jobs?q=data+analyst+internship&l=India&start=30\n",
      "https://in.indeed.com/jobs?q=data+analyst+internship&l=India&start=40\n",
      "https://in.indeed.com/jobs?q=data+analyst+internship&l=India&start=50\n",
      "https://in.indeed.com/jobs?q=data+analyst+internship&l=India&start=60\n",
      "https://in.indeed.com/jobs?q=data+analyst+internship&l=India&start=70\n",
      "https://in.indeed.com/jobs?q=data+analyst+internship&l=India&start=80\n",
      "https://in.indeed.com/jobs?q=data+analyst+internship&l=India&start=90\n",
      "135\n"
     ]
    }
   ],
   "source": [
    "main('data analyst internship','India')"
   ]
  },
  {
   "cell_type": "markdown",
   "id": "1c5ba80f",
   "metadata": {},
   "source": []
  },
  {
   "cell_type": "code",
   "execution_count": null,
   "id": "3c1d7d80",
   "metadata": {},
   "outputs": [],
   "source": []
  }
 ],
 "metadata": {
  "kernelspec": {
   "display_name": "Python 3",
   "language": "python",
   "name": "python3"
  },
  "language_info": {
   "codemirror_mode": {
    "name": "ipython",
    "version": 3
   },
   "file_extension": ".py",
   "mimetype": "text/x-python",
   "name": "python",
   "nbconvert_exporter": "python",
   "pygments_lexer": "ipython3",
   "version": "3.8.8"
  }
 },
 "nbformat": 4,
 "nbformat_minor": 5
}
